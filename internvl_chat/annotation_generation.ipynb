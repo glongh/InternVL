{
 "cells": [
  {
   "cell_type": "code",
   "execution_count": 17,
   "id": "a71c3219",
   "metadata": {},
   "outputs": [],
   "source": [
    "import os\n",
    "import json\n",
    "from tqdm import tqdm"
   ]
  },
  {
   "cell_type": "code",
   "execution_count": 19,
   "id": "c11b58a9",
   "metadata": {},
   "outputs": [
    {
     "name": "stderr",
     "output_type": "stream",
     "text": [
      "100%|██████████| 606/606 [00:19<00:00, 30.84it/s]\n"
     ]
    }
   ],
   "source": [
    "question = \"<image>\\nFrom this aerial image of an urban street scene, identify and trace all visible road markings, including lane dividers, lane boundaries, bike lanes. For each marking, output a polyline or a sequence of (x, y) pixel coordinates representing its shape. Only include visible markings painted on the road surface.\"\n",
    "path = '/data_ssd/lei/OpenSatMap_VLM/train/'\n",
    "regions = sorted(os.listdir(path))\n",
    "annotations = []\n",
    "for region in tqdm(regions):\n",
    "    imgs = [f for f in sorted(os.listdir(path + region)) if f.endswith(\".png\")]\n",
    "    for idx, img in enumerate(imgs):\n",
    "        anns = {}\n",
    "        id = region + '_' + str(idx).zfill(4)\n",
    "        img_path = path + '{}/{}'.format(region, img)\n",
    "        json_path = img_path.split('.')[0] + '.json'\n",
    "        with open(json_path, 'r') as f:\n",
    "            lines = json.load(f)\n",
    "        ans = ''\n",
    "        for line in lines:\n",
    "            round_line = [[round(x), round(y)] for x, y in line]\n",
    "            if any(x < 0 or x > 512 or y < 0 or y > 512 for x, y in round_line):\n",
    "                assert 0\n",
    "            ans = ans + \"<line> \" + \" \".join(f\"<{x}> <{y}>\" for x, y in round_line) + \" </line> \"\n",
    "        \n",
    "        anns[\"id\"] = id\n",
    "        anns[\"images\"] = img_path\n",
    "        anns[\"conversations\"] = []\n",
    "        anns[\"conversations\"].append({\"role\": \"user\", \"content\": question})\n",
    "        anns[\"conversations\"].append({\"role\": \"assistant\", \"content\": ans})\n",
    "        annotations.append(anns)\n",
    "\n",
    "\n",
    "with open(\"/data_ssd/lei/OpenSatMap_VLM/annotations.json\", \"w\", encoding=\"utf-8\") as f:\n",
    "    json.dump(annotations, f, indent=4, ensure_ascii=False)"
   ]
  },
  {
   "cell_type": "code",
   "execution_count": 22,
   "id": "1a16c2f2",
   "metadata": {},
   "outputs": [],
   "source": [
    "with open(\"/data_ssd/lei/OpenSatMap_VLM/annotations_val.json\", \"w\", encoding=\"utf-8\") as f:\n",
    "    json.dump(annotations[310000:], f, indent=4, ensure_ascii=False)"
   ]
  },
  {
   "cell_type": "code",
   "execution_count": 20,
   "id": "52b4fac6",
   "metadata": {},
   "outputs": [
    {
     "data": {
      "text/plain": [
       "316357"
      ]
     },
     "execution_count": 20,
     "metadata": {},
     "output_type": "execute_result"
    }
   ],
   "source": [
    "len(annotations)\n"
   ]
  }
 ],
 "metadata": {
  "kernelspec": {
   "display_name": "pytorch3d",
   "language": "python",
   "name": "python3"
  },
  "language_info": {
   "codemirror_mode": {
    "name": "ipython",
    "version": 3
   },
   "file_extension": ".py",
   "mimetype": "text/x-python",
   "name": "python",
   "nbconvert_exporter": "python",
   "pygments_lexer": "ipython3",
   "version": "3.9.20"
  }
 },
 "nbformat": 4,
 "nbformat_minor": 5
}
